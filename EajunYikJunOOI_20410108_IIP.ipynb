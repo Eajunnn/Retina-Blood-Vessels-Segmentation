{
 "cells": [
  {
   "cell_type": "code",
   "execution_count": 2,
   "metadata": {},
   "outputs": [
    {
     "name": "stderr",
     "output_type": "stream",
     "text": [
      "C:\\Users\\Acer\\AppData\\Local\\Temp\\ipykernel_3684\\3192179167.py:45: UserWarning: Use keyword parameter `sigmas` instead of `scale_range` and `scale_range` which will be removed in version 0.17.\n",
      "  frangi_result = frangi(imgGreen, scale_range=(0.5, 10), scale_step=1.5, beta=15)\n"
     ]
    },
    {
     "name": "stdout",
     "output_type": "stream",
     "text": [
      "P Average:  0.6458968713369031\n",
      "N Average:  0.9854959168032357\n",
      "T Average:  0.9418937177535366\n"
     ]
    }
   ],
   "source": [
    "import cv2\n",
    "import os\n",
    "import numpy as np\n",
    "import matplotlib.pyplot as plt\n",
    "import PIL\n",
    "from skimage.filters import frangi\n",
    "from skimage import exposure\n",
    "from skimage.filters import frangi, apply_hysteresis_threshold\n",
    "\n",
    "# Load image paths and other necessary data\n",
    "img_path_1 = r'retina_images_01_10\\retina_images_01_10'\n",
    "img_path_2 = r'retina_images_11_20\\retina_images_11_20'\n",
    "mask_path = r'mask_images\\mask_images'\n",
    "label_path = r'label_images\\label_images'\n",
    "\n",
    "P_total, N_total, T_total = 0., 0., 0.\n",
    "\n",
    "# Change the range according to the number of retina images.\n",
    "for i in range(1, 21):\n",
    "    # Load input image\n",
    "    if i < 11:\n",
    "        img = cv2.imread(os.path.join(img_path_1, str(i) + '.tif'), cv2.IMREAD_COLOR)\n",
    "    else:\n",
    "        img = cv2.imread(os.path.join(img_path_2, str(i) + '.tif'), cv2.IMREAD_COLOR)\n",
    "\n",
    "    \n",
    "    imgGreen = img[:,:,1]\n",
    "\n",
    "\n",
    "    # Enhance contrast using CLAHE (Contrast Limited Adaptive Histogram Equalization)\n",
    "    clahe = cv2.createCLAHE(clipLimit=2.0, tileGridSize=(16, 16))\n",
    "    img_clahe = clahe.apply(imgGreen)\n",
    "\n",
    "    kernel_size = 15  # Adjust kernel size based on vessel width\n",
    "    kernel = cv2.getStructuringElement(cv2.MORPH_RECT, (kernel_size, kernel_size))\n",
    "    black_tophat = cv2.morphologyEx(img_clahe, cv2.MORPH_BLACKHAT, kernel)# Apply black tophat operation on image that undergone CLAHE\n",
    "    \n",
    "    # median filter(3, 3)\n",
    "    \n",
    "    \n",
    "    # Use Otsu's thresholding\n",
    "    _, thres = cv2.threshold(black_tophat, 0, 255, cv2.THRESH_BINARY + cv2.THRESH_OTSU)\n",
    "\n",
    "    # Frangi filtering\n",
    "    frangi_result = frangi(imgGreen, scale_range=(0.5, 10), scale_step=1.5, beta=15)\n",
    "\n",
    "    \n",
    "    low = 0.01 # Adjust low and high thresholds as needed\n",
    "    high = 0.5\n",
    "    binary_image = apply_hysteresis_threshold(frangi_result, low, high) # Apply hysteresis thresholding to the binary image produced by frangi\n",
    "    \n",
    "    mask = np.array(PIL.Image.open(os.path.join(mask_path, str(i) + '.tif')))\n",
    "    mask_thres = np.multiply(thres, mask / 255)\n",
    "    mask_frangi = np.multiply(binary_image, mask / 255)\n",
    "    \n",
    "    # Multiply the results of Frangi filter after Otsu's thresholding and Blacktophat after Hysteresis thresholding\n",
    "    combined = np.multiply(mask_frangi, mask_thres)\n",
    "\n",
    "    # Load mask and label images\n",
    "    mask = np.array(PIL.Image.open(os.path.join(mask_path, str(i) + '.tif')))\n",
    "    mask_DoG = np.multiply(combined, mask / 255)\n",
    "    thres_DoG = mask_DoG > 0  # Adjust threshold value as needed\n",
    "    label = np.array(PIL.Image.open(os.path.join(label_path, str(i) + '.tif')))\n",
    "\n",
    "    # Calculate evaluation metrics\n",
    "    TP = sum(sum((label==255) & (thres_DoG==1) & (mask == 255)))\n",
    "    TN = sum(sum((label==0) & (thres_DoG==0) & (mask == 255))) \n",
    "    FP = sum(sum((label==0) & (thres_DoG==1) & (mask == 255)))\n",
    "    FN = sum(sum((label==255) & (thres_DoG==0) & (mask == 255)))\n",
    "    P_total += TP/(TP+FN)\n",
    "    N_total += TN/(TN+FP)\n",
    "    T_total += (TP+TN)/(TP+FN+TN+FP)\n",
    "\n",
    "    \n",
    "\n",
    "# Calculate and print average evaluation metrics\n",
    "print('P Average: ', P_total / 20)\n",
    "print('N Average: ', N_total / 20)\n",
    "print('T Average: ', T_total / 20)\n"
   ]
  },
  {
   "cell_type": "code",
   "execution_count": null,
   "metadata": {},
   "outputs": [],
   "source": []
  }
 ],
 "metadata": {
  "kernelspec": {
   "display_name": "IIP",
   "language": "python",
   "name": "python3"
  },
  "language_info": {
   "codemirror_mode": {
    "name": "ipython",
    "version": 3
   },
   "file_extension": ".py",
   "mimetype": "text/x-python",
   "name": "python",
   "nbconvert_exporter": "python",
   "pygments_lexer": "ipython3",
   "version": "3.10.13"
  }
 },
 "nbformat": 4,
 "nbformat_minor": 2
}
